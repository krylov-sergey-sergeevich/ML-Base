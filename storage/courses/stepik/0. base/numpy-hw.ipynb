{
 "cells": [
  {
   "cell_type": "code",
   "execution_count": 139,
   "outputs": [],
   "source": [
    "import math\n",
    "\n",
    "import numpy as np"
   ],
   "metadata": {
    "collapsed": false,
    "pycharm": {
     "name": "#%%\n"
    }
   }
  },
  {
   "cell_type": "markdown",
   "source": [
    "**Перемножение матриц**"
   ],
   "metadata": {
    "collapsed": false,
    "pycharm": {
     "name": "#%% md\n"
    }
   }
  },
  {
   "cell_type": "code",
   "execution_count": 140,
   "outputs": [],
   "source": [
    "def no_numpy_mult(first, second):\n",
    "    x, y = len(first[0]), len(second[0])\n",
    "    result = [[0 for i in range(y)] for j in range(x)]\n",
    "\n",
    "    for i in range(x):\n",
    "        for j in range(y):\n",
    "            for m in range(len(second[1])):\n",
    "                result[i][m] += first[i][j] * second[j][m]\n",
    "    return result\n",
    "\n",
    "\n",
    "def numpy_mult(first, second):\n",
    "    a = np.array((first), dtype=float)\n",
    "    b = np.array((second), dtype=float)\n",
    "    return a @ b"
   ],
   "metadata": {
    "collapsed": false,
    "pycharm": {
     "name": "#%%\n"
    }
   }
  },
  {
   "cell_type": "markdown",
   "source": [
    "**Скалярное произведение**"
   ],
   "metadata": {
    "collapsed": false,
    "pycharm": {
     "name": "#%% md\n"
    }
   }
  },
  {
   "cell_type": "code",
   "execution_count": 141,
   "outputs": [],
   "source": [
    "def no_numpy_scalar(v1, v2):\n",
    "    return sum([i * j for i, j in zip(v1, v2)])\n",
    "\n",
    "\n",
    "def numpy_scalar(v1, v2):\n",
    "    return np.dot(v1, v2)"
   ],
   "metadata": {
    "collapsed": false,
    "pycharm": {
     "name": "#%%\n"
    }
   }
  },
  {
   "cell_type": "markdown",
   "source": [
    "**Склеивание**\n",
    "![alt text](../../../../__meta__/__files__/numpy-6.1.png \"Склеивание\")"
   ],
   "metadata": {
    "collapsed": false,
    "pycharm": {
     "name": "#%% md\n"
    }
   }
  },
  {
   "cell_type": "code",
   "execution_count": 142,
   "outputs": [],
   "source": [
    "def transform(X, a=1):\n",
    "    result = []\n",
    "    for row in X:\n",
    "        idx = 0\n",
    "        transform_row = []\n",
    "        for el in row:\n",
    "            if idx % 2 == 1:\n",
    "                transform_row.append(a)\n",
    "            else:\n",
    "                transform_row.append(el**3)\n",
    "            idx += 1\n",
    "        transform_row.reverse()\n",
    "        result.append(np.concatenate((row, transform_row), axis=0))\n",
    "    return np.array(result)\n",
    "\n",
    "# Эталонное решение\n",
    "# def transform(X, a=1):\n",
    "#     Y = np.copy(X)\n",
    "#     Y[:,1::2] = a\n",
    "#     Y[:,0::2] **= 3\n",
    "#     return np.hstack((X, Y[:,::-1]))"
   ],
   "metadata": {
    "collapsed": false,
    "pycharm": {
     "name": "#%%\n"
    }
   }
  },
  {
   "cell_type": "code",
   "execution_count": 143,
   "outputs": [
    {
     "data": {
      "text/plain": "array([[      100,       200,       300,       400,       500, 125000000,\n                1,  27000000,         1,   1000000]])"
     },
     "execution_count": 143,
     "metadata": {},
     "output_type": "execute_result"
    }
   ],
   "source": [
    "X = [[100, 200, 300, 400, 500]]\n",
    "\n",
    "transform(X)"
   ],
   "metadata": {
    "collapsed": false,
    "pycharm": {
     "name": "#%%\n"
    }
   }
  },
  {
   "cell_type": "markdown",
   "source": [
    "**Run-length encoding**\n",
    "![alt text](../../../../__meta__/__files__/numpy-6.1.1.png \"Run-length encoding\")"
   ],
   "metadata": {
    "collapsed": false,
    "pycharm": {
     "name": "#%% md\n"
    }
   }
  },
  {
   "cell_type": "code",
   "execution_count": 144,
   "outputs": [],
   "source": [
    "def encode(a):\n",
    "    #YOUR CODE\n",
    "    prev = a[0]\n",
    "    count = 1\n",
    "    numbers = []\n",
    "    counts = []\n",
    "    for i in range(1, len(a)):\n",
    "        if a[i] != prev:\n",
    "            numbers.append(prev)\n",
    "            counts.append(count)\n",
    "            prev = a[i]\n",
    "            count = 1\n",
    "        else:\n",
    "            count += 1\n",
    "        if i == len(a) - 1:\n",
    "            numbers.append(prev)\n",
    "            counts.append(count)\n",
    "    return np.array(numbers), np.array(counts)"
   ],
   "metadata": {
    "collapsed": false,
    "pycharm": {
     "name": "#%%\n"
    }
   }
  },
  {
   "cell_type": "code",
   "execution_count": 145,
   "outputs": [
    {
     "name": "stdout",
     "output_type": "stream",
     "text": [
      "---\n",
      "prev 1\n",
      "---\n",
      "prev 2 + 1\n",
      "---\n",
      "prev 2\n",
      "---\n",
      "prev 3 + 1\n",
      "---\n",
      "prev 3\n",
      "---\n",
      "prev 1 + 1\n",
      "---\n",
      "prev 1\n",
      "---\n",
      "prev 5 + 1\n",
      "---\n",
      "prev 5\n",
      "---\n",
      "prev 2\n",
      "---\n",
      "prev 3 + 1\n"
     ]
    },
    {
     "data": {
      "text/plain": "(array([1, 2, 3, 1, 5, 2, 3]), array([1, 2, 2, 2, 2, 1, 2]))"
     },
     "execution_count": 145,
     "metadata": {},
     "output_type": "execute_result"
    }
   ],
   "source": [
    "x = np.array([1, 2, 2, 3, 3, 1, 1, 5, 5, 2, 3, 3])\n",
    "\n",
    "encode(x)"
   ],
   "metadata": {
    "collapsed": false,
    "pycharm": {
     "name": "#%%\n"
    }
   }
  }
 ],
 "metadata": {
  "kernelspec": {
   "display_name": "Python 3",
   "language": "python",
   "name": "python3"
  },
  "language_info": {
   "codemirror_mode": {
    "name": "ipython",
    "version": 2
   },
   "file_extension": ".py",
   "mimetype": "text/x-python",
   "name": "python",
   "nbconvert_exporter": "python",
   "pygments_lexer": "ipython2",
   "version": "2.7.6"
  }
 },
 "nbformat": 4,
 "nbformat_minor": 0
}